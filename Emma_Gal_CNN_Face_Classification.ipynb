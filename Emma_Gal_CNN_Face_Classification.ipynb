{
 "cells": [
  {
   "cell_type": "code",
   "execution_count": 3,
   "metadata": {},
   "outputs": [],
   "source": [
    "import tensorflow as tf\n",
    "from tensorflow.keras.models import Sequential\n",
    "from tensorflow.keras.layers import Dense,Dropout,Activation,Flatten, Conv2D, MaxPooling2D\n",
    "import pickle\n",
    "import cv2\n",
    "import matplotlib.pyplot as plt\n",
    "from sklearn.model_selection import train_test_split\n",
    "from keras.utils.vis_utils import plot_model\n",
    "from sklearn.metrics import classification_report\n",
    "import numpy as np\n",
    "X = pickle.load(open(\"Emma_Gal_X_Train_Bilateral.pickle\",\"rb\"))\n",
    "y = pickle.load(open(\"Emma_Gal_Y_Train_Bilateral.pickle\",\"rb\"))\n",
    "X = X/255.0\n",
    "CATEGORIES = [\"Emma\",\"Gal\"]"
   ]
  },
  {
   "cell_type": "code",
   "execution_count": 4,
   "metadata": {},
   "outputs": [
    {
     "name": "stdout",
     "output_type": "stream",
     "text": [
      "Train on 5258 samples, validate on 1315 samples\n",
      "Epoch 1/3\n",
      "5258/5258 [==============================] - 10s 2ms/sample - loss: 0.3767 - acc: 0.8186 - val_loss: 0.2124 - val_acc: 0.9186\n",
      "Epoch 2/3\n",
      "5258/5258 [==============================] - 9s 2ms/sample - loss: 0.1535 - acc: 0.9428 - val_loss: 0.1721 - val_acc: 0.9278\n",
      "Epoch 3/3\n",
      "5258/5258 [==============================] - 9s 2ms/sample - loss: 0.0939 - acc: 0.9635 - val_loss: 0.1101 - val_acc: 0.9612\n"
     ]
    }
   ],
   "source": [
    "X_train, X_test, y_train, y_test = train_test_split(X, y,\n",
    "                                                    test_size=.3,\n",
    "                                                    random_state=42)\n",
    "model = Sequential()\n",
    "model.add(Conv2D(64,(3,3),input_shape = X.shape[1:]))\n",
    "model.add(Activation(\"relu\"))\n",
    "model.add(MaxPooling2D(pool_size=(2,2)))\n",
    "\n",
    "model.add(Conv2D(64,(3,3)))\n",
    "model.add(Activation(\"relu\"))\n",
    "model.add(MaxPooling2D(pool_size=(2,2)))\n",
    "\n",
    "\n",
    "model.add(Flatten())\n",
    "model.add(Dense(64))\n",
    "model.add(Activation(\"relu\"))\n",
    "\n",
    "model.add(Dense(1))\n",
    "model.add(Activation(\"sigmoid\"))\n",
    "# plot_model(model, to_file='model_plot.png', show_shapes=True, show_layer_names=True)\n",
    "model.compile(loss = \"binary_crossentropy\",\n",
    "             optimizer = \"adam\",\n",
    "             metrics=[\"accuracy\"])\n",
    "\n",
    "\n",
    "model.fit(X_train,y_train,batch_size=4,epochs = 3,validation_split=0.2)\n",
    "\n",
    "# y_pred = model.predict(X_test, batch_size=32, verbose=1)\n",
    "# y_pred_bool = np.argmax(y_pred, axis=1)\n",
    "\n",
    "#print(classification_report(y_test, y_pred_bool))\n",
    "model.save('my_model.h5')"
   ]
  },
  {
   "cell_type": "code",
   "execution_count": 7,
   "metadata": {},
   "outputs": [
    {
     "name": "stdout",
     "output_type": "stream",
     "text": [
      "Train on 5258 samples, validate on 1315 samples\n",
      "Epoch 1/10\n",
      "5258/5258 [==============================] - 10s 2ms/sample - loss: 0.4796 - acc: 0.7556 - val_loss: 0.3917 - val_acc: 0.8228\n",
      "Epoch 2/10\n",
      "5258/5258 [==============================] - 10s 2ms/sample - loss: 0.3287 - acc: 0.8629 - val_loss: 0.3579 - val_acc: 0.8411\n",
      "Epoch 3/10\n",
      "5258/5258 [==============================] - 10s 2ms/sample - loss: 0.2859 - acc: 0.8838 - val_loss: 0.2806 - val_acc: 0.8768\n",
      "Epoch 4/10\n",
      "5258/5258 [==============================] - 10s 2ms/sample - loss: 0.2490 - acc: 0.8981 - val_loss: 0.2455 - val_acc: 0.9095\n",
      "Epoch 5/10\n",
      "5258/5258 [==============================] - 10s 2ms/sample - loss: 0.2216 - acc: 0.9099 - val_loss: 0.2273 - val_acc: 0.9118\n",
      "Epoch 6/10\n",
      "5258/5258 [==============================] - 10s 2ms/sample - loss: 0.1883 - acc: 0.9228 - val_loss: 0.2149 - val_acc: 0.9232\n",
      "Epoch 7/10\n",
      "5258/5258 [==============================] - 10s 2ms/sample - loss: 0.1559 - acc: 0.9445 - val_loss: 0.1810 - val_acc: 0.9422\n",
      "Epoch 8/10\n",
      "5258/5258 [==============================] - 10s 2ms/sample - loss: 0.1360 - acc: 0.9504 - val_loss: 0.1972 - val_acc: 0.9255\n",
      "Epoch 9/10\n",
      "5258/5258 [==============================] - 10s 2ms/sample - loss: 0.1146 - acc: 0.9576 - val_loss: 0.2082 - val_acc: 0.9232\n",
      "Epoch 10/10\n",
      "5258/5258 [==============================] - 10s 2ms/sample - loss: 0.1028 - acc: 0.9631 - val_loss: 0.1853 - val_acc: 0.9354\n"
     ]
    },
    {
     "data": {
      "text/plain": [
       "<tensorflow.python.keras.callbacks.History at 0x235a6d43f98>"
      ]
     },
     "execution_count": 7,
     "metadata": {},
     "output_type": "execute_result"
    }
   ],
   "source": [
    "X = pickle.load(open(\"Emma_Gal_X_Train_Gabor.pickle\",\"rb\"))\n",
    "y = pickle.load(open(\"Emma_Gal_Y_Train_Gabor.pickle\",\"rb\"))\n",
    "X = X/255.0\n",
    "CATEGORIES = [\"Emma\",\"Gal\"]\n",
    "X_train, X_test, y_train, y_test = train_test_split(X, y,\n",
    "                                                    test_size=.3,\n",
    "                                                    random_state=42)\n",
    "model = Sequential()\n",
    "model.add(Conv2D(64,(3,3),input_shape = X.shape[1:]))\n",
    "model.add(Activation(\"relu\"))\n",
    "model.add(MaxPooling2D(pool_size=(2,2)))\n",
    "\n",
    "model.add(Conv2D(64,(3,3)))\n",
    "model.add(Activation(\"relu\"))\n",
    "model.add(MaxPooling2D(pool_size=(2,2)))\n",
    "\n",
    "\n",
    "model.add(Flatten())\n",
    "model.add(Dense(64))\n",
    "model.add(Activation(\"relu\"))\n",
    "\n",
    "model.add(Dense(1))\n",
    "model.add(Activation(\"sigmoid\"))\n",
    "\n",
    "model.compile(loss = \"binary_crossentropy\",\n",
    "             optimizer = \"adam\",\n",
    "             metrics=[\"accuracy\"])\n",
    "\n",
    "model.fit(X_train,y_train,batch_size=4,epochs = 10,validation_split=0.2)\n",
    "# y_pred = model.predict(X_test, batch_size=32, verbose=1)\n",
    "# y_pred_bool = np.argmax(y_pred, axis=1)\n",
    "\n",
    "# print(classification_report(y_test, y_pred_bool))\n",
    "# model.save('my_model.h5')"
   ]
  },
  {
   "cell_type": "code",
   "execution_count": null,
   "metadata": {},
   "outputs": [],
   "source": []
  }
 ],
 "metadata": {
  "kernelspec": {
   "display_name": "Python 3",
   "language": "python",
   "name": "python3"
  },
  "language_info": {
   "codemirror_mode": {
    "name": "ipython",
    "version": 3
   },
   "file_extension": ".py",
   "mimetype": "text/x-python",
   "name": "python",
   "nbconvert_exporter": "python",
   "pygments_lexer": "ipython3",
   "version": "3.7.2"
  }
 },
 "nbformat": 4,
 "nbformat_minor": 2
}
